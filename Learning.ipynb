{
 "cells": [
  {
   "cell_type": "code",
   "execution_count": 1,
   "metadata": {},
   "outputs": [
    {
     "name": "stdout",
     "output_type": "stream",
     "text": [
      "Hello World!\n",
      "Hello World!\n"
     ]
    }
   ],
   "source": [
    "print(\"Hello World!\\nHello World!\")"
   ]
  },
  {
   "cell_type": "code",
   "execution_count": 3,
   "metadata": {},
   "outputs": [
    {
     "name": "stdout",
     "output_type": "stream",
     "text": [
      "Hello World!\n"
     ]
    }
   ],
   "source": [
    "#Concatenation\n",
    "\n",
    "print(\"Hello\"+\" \"+\"World!\")"
   ]
  },
  {
   "cell_type": "code",
   "execution_count": 5,
   "metadata": {},
   "outputs": [
    {
     "data": {
      "text/plain": [
       "'Sahana'"
      ]
     },
     "execution_count": 5,
     "metadata": {},
     "output_type": "execute_result"
    }
   ],
   "source": [
    "#input function()\n",
    "\n",
    "input(\"What is your name?\")"
   ]
  },
  {
   "cell_type": "code",
   "execution_count": null,
   "metadata": {},
   "outputs": [
    {
     "name": "stdout",
     "output_type": "stream",
     "text": [
      "Sahana\n"
     ]
    }
   ],
   "source": [
    "#input() function & variable\n",
    "\n",
    "name=input(\"What is your name?\")\n",
    "print(name)"
   ]
  },
  {
   "cell_type": "code",
   "execution_count": null,
   "metadata": {},
   "outputs": [
    {
     "name": "stdout",
     "output_type": "stream",
     "text": [
      "Hello Sahana!\n"
     ]
    }
   ],
   "source": [
    "#Using all 3 functions(Concatenation,String,Variable)\n",
    "\n",
    "name=(\"Hello\" + \" \" + input(\"What is your name?\") +\"!\")\n",
    "print(name)"
   ]
  },
  {
   "cell_type": "code",
   "execution_count": 15,
   "metadata": {},
   "outputs": [
    {
     "name": "stdout",
     "output_type": "stream",
     "text": [
      "Hello Sahana!\n",
      "13\n"
     ]
    }
   ],
   "source": [
    "#length function\n",
    "\n",
    "name=(\"Hello\" + \" \" + input(\"What is your name?\") +\"!\")\n",
    "length=len(name)\n",
    "print(name)\n",
    "print(length)\n",
    "\n",
    "# or we can use single code print(len(\"Hello\" + \" \" + input(\"What is your name?\") +\"!\"))\n",
    "\n",
    "#or we can use particular name='sahana'\n",
    "#length=len(name)\n",
    "#print(length)"
   ]
  },
  {
   "cell_type": "code",
   "execution_count": 16,
   "metadata": {},
   "outputs": [
    {
     "name": "stdout",
     "output_type": "stream",
     "text": [
      "juice milk\n"
     ]
    }
   ],
   "source": [
    "#Switching by variable\n",
    "\n",
    "glass1=\"milk\"\n",
    "glass2=\"juice\"\n",
    "\n",
    "temp=glass1\n",
    "glass1=glass2\n",
    "glass2=temp\n",
    "\n",
    "print(glass1,glass2)\n"
   ]
  },
  {
   "cell_type": "code",
   "execution_count": null,
   "metadata": {},
   "outputs": [
    {
     "name": "stdout",
     "output_type": "stream",
     "text": [
      "Welcome to the Band Name Generator.\n",
      "Mysore\n",
      "Rabbit\n",
      "Your band name could be: Mysore Rabbit\n"
     ]
    }
   ],
   "source": [
    "#Band Name Generator\n",
    "\n",
    "print(\"Welcome to the Band Name Generator.\")\n",
    "city=input(\"What's the name of the city you grew up in?\\n\")\n",
    "print(city)\n",
    "pet=input(\"What's your pet's name?\\n\")\n",
    "print(pet)\n",
    "print(\"Your band name could be: \" + city + \" \" + pet)\n",
    "\n"
   ]
  },
  {
   "cell_type": "code",
   "execution_count": 28,
   "metadata": {},
   "outputs": [
    {
     "name": "stdout",
     "output_type": "stream",
     "text": [
      "True\n"
     ]
    }
   ],
   "source": [
    "#Datatypes-Strings,integers,float & boolean\n",
    "\n",
    "print(bool(\"rain\"))"
   ]
  },
  {
   "cell_type": "code",
   "execution_count": null,
   "metadata": {},
   "outputs": [
    {
     "name": "stdout",
     "output_type": "stream",
     "text": [
      "Numbers of length in the string: 6\n"
     ]
    }
   ],
   "source": [
    "#type - the function is used for which datatype \n",
    "\n",
    "print(\"Numbers of length in the string: \"+str(len(input(\"What is your name?\"))))\n",
    "\n",
    "#print(type(\"Numbers of length in the string:\"))\n",
    "\n",
    "#print(type(len(input(\"What is your name?\"))))\n"
   ]
  },
  {
   "cell_type": "code",
   "execution_count": null,
   "metadata": {},
   "outputs": [
    {
     "name": "stdout",
     "output_type": "stream",
     "text": [
      "0.6666666666666666\n",
      "8\n",
      "0\n"
     ]
    }
   ],
   "source": [
    "# Mathematical Functions\n",
    "\n",
    "print(2/3)\n",
    "print(2**3)\n",
    "print(2//3)"
   ]
  },
  {
   "cell_type": "code",
   "execution_count": null,
   "metadata": {},
   "outputs": [
    {
     "name": "stdout",
     "output_type": "stream",
     "text": [
      "Welcome to the tip calculator!\n",
      "7890.0\n",
      "12\n",
      "2\n",
      "Each person should pay: Rs.4418.4\n"
     ]
    }
   ],
   "source": [
    "#Using Mathematical Operations created the bill amount\n",
    "\n",
    "print(\"Welcome to the tip calculator!\")\n",
    "bill=float(input(\"What was the total bill? \\n Rs.\"))\n",
    "print(bill)\n",
    "tip=int(input(\"How much tip would you like to give? 10, 12, or 15? \\n\"))\n",
    "print(tip)\n",
    "people=int(input(\"How many people to split the bill? \\n\"))\n",
    "print(people)\n",
    "tip_as_percent=tip/100\n",
    "total_tip_amount=bill * tip_as_percent\n",
    "total_bill=bill+total_tip_amount\n",
    "bill_per_person=total_bill/people\n",
    "final_amount=round(bill_per_person,2)\n",
    "print(f\"Each person should pay: Rs.{final_amount}\")"
   ]
  },
  {
   "cell_type": "code",
   "execution_count": 12,
   "metadata": {},
   "outputs": [
    {
     "name": "stdout",
     "output_type": "stream",
     "text": [
      "55\n",
      "Odd\n"
     ]
    }
   ],
   "source": [
    "n=int(input(\"Enter the number: \\n\"))\n",
    "print(n)\n",
    "if n % 2 == 0:\n",
    "    print(\"Even\")\n",
    "else:\n",
    "    print(\"Odd\")\n",
    "\n",
    "\n"
   ]
  },
  {
   "cell_type": "code",
   "execution_count": null,
   "metadata": {},
   "outputs": [
    {
     "name": "stdout",
     "output_type": "stream",
     "text": [
      "Welcome to the RollerCoaster\n",
      "The height is: 10\n",
      "Cannot able to ride the rollercoaster\n"
     ]
    }
   ],
   "source": [
    "# Using Conditional Operators created the ticket price of roller coaster\n",
    "\n",
    "print(\"Welcome to the RollerCoaster\")\n",
    "height=int(input(\"Enter the height in cm: \\n\"))\n",
    "print(f\"The height is: {height}\")\n",
    "bill=0\n",
    "\n",
    "if height >= 120:\n",
    "    print(\"You can ride the rollercoaster!\")\n",
    "    age=int(input(\"Enter your age: \\n\"))\n",
    "    print(f\"The age is: {age}\")\n",
    "    if age <12:\n",
    "        print(\"The ticket price is: Rs.5\")\n",
    "        bill=5\n",
    "    elif age >=12:\n",
    "        print(\"The ticket price is: Rs.7\")\n",
    "        bill=7\n",
    "    else:\n",
    "        print(\"The ticket price is: Rs.12\")\n",
    "        bill=12\n",
    "\n",
    "    photos=input(\"If you want photo then type y for yes and n for no \\n\")\n",
    "    print(f\"Want photos: {photos}\")\n",
    "\n",
    "    if photos==\"y\":\n",
    "        bill+=3\n",
    "\n",
    "    print(f\"The total bill is: Rs.{bill}\")\n",
    "else:\n",
    "    print(\"Cannot able to ride the rollercoaster\")"
   ]
  },
  {
   "cell_type": "code",
   "execution_count": 67,
   "metadata": {},
   "outputs": [
    {
     "name": "stdout",
     "output_type": "stream",
     "text": [
      "\n",
      "_.-\"/______________________/////\n",
      "`'-.\\~~~~~~~~~~~~~~~~~~~~~~\\\\\\\\\\                                                                             \n",
      "\n"
     ]
    }
   ],
   "source": [
    "#using ASCII code\n",
    "\n",
    "print('''\n",
    "_.-\"/______________________/////\n",
    "`'-.\\~~~~~~~~~~~~~~~~~~~~~~\\\\\\\\\\\\\\\\\\                                                                             \n",
    "''')"
   ]
  },
  {
   "cell_type": "code",
   "execution_count": 58,
   "metadata": {},
   "outputs": [
    {
     "name": "stdout",
     "output_type": "stream",
     "text": [
      "\n",
      ".       .\n",
      "     |\\_---_/|\n",
      "    /   o_o   \\                          \n",
      "    |    U    |\n",
      "    \\  ._I_.  /\n",
      "     `-_____-'\n",
      "      \n"
     ]
    }
   ],
   "source": [
    "print('''\n",
    ".       .\n",
    "     |\\_---_/|\n",
    "    /   o_o   \\                          \n",
    "    |    U    |\n",
    "    \\  ._I_.  /\n",
    "     `-_____-'\n",
    "      ''')\n"
   ]
  },
  {
   "cell_type": "code",
   "execution_count": 3,
   "metadata": {},
   "outputs": [
    {
     "name": "stdout",
     "output_type": "stream",
     "text": [
      "\n",
      "                .-~~~~~~~~~-._       _.-~~~~~~~~~-.\n",
      "            __.'              ~.   .~              `.__\n",
      "          .'//                  \\./                  \\`.\n",
      "        .'//                     |                     \\`.\n",
      "      .'// .-~\"\"\"\"\"\"\"~~~~-._     |     _,-~~~~\"\"\"\"\"\"\"~-. \\`.     \n",
      "    .'//.-\"                 `-.  |  .-'                 \"-.\\`.\n",
      "  .'//______.============-..   \\ | /   ..-============.______\\`.\n",
      ".'______________________________\\|/______________________________`.\n",
      "      \n"
     ]
    }
   ],
   "source": [
    "print('''\n",
    "                .-~~~~~~~~~-._       _.-~~~~~~~~~-.\n",
    "            __.'              ~.   .~              `.__\n",
    "          .'//                  \\./                  \\\\`.\n",
    "        .'//                     |                     \\\\`.\n",
    "      .'// .-~\"\"\"\"\"\"\"~~~~-._     |     _,-~~~~\"\"\"\"\"\"\"~-. \\\\`.     \n",
    "    .'//.-\"                 `-.  |  .-'                 \"-.\\\\`.\n",
    "  .'//______.============-..   \\ | /   ..-============.______\\\\`.\n",
    ".'______________________________\\|/______________________________`.\n",
    "      ''')"
   ]
  },
  {
   "cell_type": "code",
   "execution_count": null,
   "metadata": {},
   "outputs": [
    {
     "name": "stdout",
     "output_type": "stream",
     "text": [
      "\n",
      "*******************************************************************************\n",
      "          |                   |                  |                     |\n",
      " _________|________________.=\"\"_;=.______________|_____________________|_______\n",
      "|                   |  ,-\"_,=\"\"     `\"=.|                  |\n",
      "|___________________|__\"=._o`\"-._        `\"=.______________|___________________\n",
      "          |                `\"=._o`\"=._      _`\"=._                     |\n",
      " _________|_____________________:=._o \"=._.\"_.-=\"'\"=.__________________|_______\n",
      "|                   |    __.--\" , ; `\"=._o.\" ,-\"\"\"-._ \".   |\n",
      "|___________________|_._\"  ,. .` ` `` ,  `\"-._\"-._   \". '__|___________________\n",
      "          |           |o`\"=._` , \"` `; .\". ,  \"-._\"-._; ;              |\n",
      " _________|___________| ;`-.o`\"=._; .\" ` '`.\"\\` . \"-._ /_______________|_______\n",
      "|                   | |o;    `\"-.o`\"=._``  '` \" ,__.--o;   |\n",
      "|___________________|_| ;     (#) `-.o `\"=.`_.--\"_o.-; ;___|___________________\n",
      "____/______/______/___|o;._    \"      `\".o|o_.--\"    ;o;____/______/______/____\n",
      "/______/______/______/_\"=._o--._        ; | ;        ; ;/______/______/______/_\n",
      "____/______/______/______/__\"=._o--._   ;o|o;     _._;o;____/______/______/____\n",
      "/______/______/______/______/____\"=._o._; | ;_.--\"o.--\"_/______/______/______/_\n",
      "____/______/______/______/______/_____\"=.o|o_.--\"\"___/______/______/______/____\n",
      "/______/______/______/______/______/______/______/______/______/______/_______/\n",
      "*******************************************************************************\n",
      "      \n",
      "Welcome To Treasure Island\n",
      "Your task is to find the treasure\n"
     ]
    },
    {
     "name": "stdout",
     "output_type": "stream",
     "text": [
      "You are at a crossroad, where you want to go? Type left or right:\n",
      "left\n",
      "You have come to lake. There is an island in the middle of the lake. Type wait to wait for a boat.Type swim to swim across:\n",
      "wait\n",
      "You arrive at the island unharmed. There is house with 3 doors. One red, one yellow and one blue. Which color do you choose?:\n",
      "yellow\n",
      "You found treasure. You Win!\n"
     ]
    }
   ],
   "source": [
    "# Created the treasure game\n",
    "print('''\n",
    "*******************************************************************************\n",
    "          |                   |                  |                     |\n",
    " _________|________________.=\"\"_;=.______________|_____________________|_______\n",
    "|                   |  ,-\"_,=\"\"     `\"=.|                  |\n",
    "|___________________|__\"=._o`\"-._        `\"=.______________|___________________\n",
    "          |                `\"=._o`\"=._      _`\"=._                     |\n",
    " _________|_____________________:=._o \"=._.\"_.-=\"'\"=.__________________|_______\n",
    "|                   |    __.--\" , ; `\"=._o.\" ,-\"\"\"-._ \".   |\n",
    "|___________________|_._\"  ,. .` ` `` ,  `\"-._\"-._   \". '__|___________________\n",
    "          |           |o`\"=._` , \"` `; .\". ,  \"-._\"-._; ;              |\n",
    " _________|___________| ;`-.o`\"=._; .\" ` '`.\"\\` . \"-._ /_______________|_______\n",
    "|                   | |o;    `\"-.o`\"=._``  '` \" ,__.--o;   |\n",
    "|___________________|_| ;     (#) `-.o `\"=.`_.--\"_o.-; ;___|___________________\n",
    "____/______/______/___|o;._    \"      `\".o|o_.--\"    ;o;____/______/______/____\n",
    "/______/______/______/_\"=._o--._        ; | ;        ; ;/______/______/______/_\n",
    "____/______/______/______/__\"=._o--._   ;o|o;     _._;o;____/______/______/____\n",
    "/______/______/______/______/____\"=._o._; | ;_.--\"o.--\"_/______/______/______/_\n",
    "____/______/______/______/______/_____\"=.o|o_.--\"\"___/______/______/______/____\n",
    "/______/______/______/______/______/______/______/______/______/______/_______/\n",
    "*******************************************************************************\n",
    "      ''')\n",
    "\n",
    "print(\"Welcome To Treasure Island\")\n",
    "print(\"Your task is to find the treasure\")\n",
    "choice1=input('You are at a crossroad, where you want to go?' \n",
    "              'Type \"left\" or \"right\"').lower()\n",
    "print(f\"You are at a crossroad, where you want to go? Type left or right:\\n{choice1}\")\n",
    "\n",
    "if(choice1 == \"left\"):\n",
    "    choice2=input('You have come to lake. ' \n",
    "                   'There is an island in the middle of the lake.' \n",
    "                   'Type \"wait\" to wait for a boat.'\n",
    "                   'Type \"swim\" to swim across').lower()\n",
    "    print(f\"You have come to lake. There is an island in the middle of the lake. Type wait to wait for a boat.Type swim to swim across:\\n{choice2}\")\n",
    "    if choice2==\"wait\":\n",
    "        choice3=input(\"You arrive at the island unharmed.\" \n",
    "                      \"There is house with 3 doors. One red,\" \n",
    "                      \"one yellow and one blue\"\n",
    "                      \"Which color do you choose?\").lower()\n",
    "        print(f\"You arrive at the island unharmed. There is house with 3 doors. One red, one yellow and one blue. Which color do you choose?:\\n{choice3}\")\n",
    "        if choice3==\"red\":\n",
    "            print(\"It's a room full of fire. Game Over\")\n",
    "        elif choice3==\"yellow\":\n",
    "            print(\"You found treasure. You Win!\")\n",
    "        elif choice3==\"blue\":\n",
    "            print(\"You enter a room of beasts. Game Over\")\n",
    "        else:\n",
    "            print(\"You chose a door that doesn't exist. Game Over\")\n",
    "    else:\n",
    "        print(\"You got attacked by an angry trout. Game Over\")\n",
    "else:\n",
    "    print(\"You fell in to hole. Game Over\")\n",
    "    \n",
    "\n"
   ]
  },
  {
   "cell_type": "code",
   "execution_count": 23,
   "metadata": {},
   "outputs": [
    {
     "name": "stdout",
     "output_type": "stream",
     "text": [
      "[7880624, 8631012, 3262366, 2823344, 1004586, 5833168, 3751095, 7792189, 4370345, 7687262, 1823294, 2680203, 8666850, 2347089, 9585262, 3007365, 3201623, 2260316, 2930446, 3546425, 9137607, 2483327, 66627, 5871502, 1431542, 7331790, 2004056, 4156210, 1930484, 1231043, 5091297, 7690285, 2947551, 4088819, 1794471, 9035801, 8645314, 1990770, 8142179, 1242104, 1678936, 4240866, 5109679, 4144478, 7855017, 6508889, 4081316, 2387067, 8003355, 7826714, 6311075, 6387557, 545847, 4492559, 1707689, 4465032, 3931990, 1619756, 238225, 8866700]\n",
      "['red', 'red', 'red', 'blue', 'blue']\n",
      "4.919125055128056\n",
      "0.3973772480760303\n",
      "18.151474800375276\n",
      "18.053905569241053\n",
      "182.50541488466928\n",
      "6.547641245429271e+24\n",
      "-0.6446878998061745\n",
      "6.209245632677059\n",
      "8.420548281003065\n",
      "0.16029092697128614\n"
     ]
    }
   ],
   "source": [
    "#Randomisation\n",
    "\n",
    "import random\n",
    "\n",
    "r=random.sample(range(10000000), k=60)\n",
    "s=random.sample(['red', 'blue'], counts=[4, 2], k=5)\n",
    "t=random.triangular(2,10,1)\n",
    "b=random.betavariate(3.9,5)\n",
    "e=random.expovariate(1/7)\n",
    "g=random.gammavariate(3.9,5)\n",
    "guass=random.gauss(57,89.9)\n",
    "l=random.lognormvariate(67,10)\n",
    "n=random.normalvariate(0,1)\n",
    "v=random.vonmisesvariate(0,1)\n",
    "p=random.paretovariate(1)\n",
    "w=random.weibullvariate(1,1)\n",
    "#random.shuffle(r)\n",
    "#random.sample(r,k=4)\n",
    "print(r)\n",
    "print(s)\n",
    "print(t)\n",
    "print(b)\n",
    "print(e)\n",
    "print(g)\n",
    "print(guass)\n",
    "print(l)\n",
    "print(n)\n",
    "print(v)\n",
    "print(p)\n",
    "print(w)"
   ]
  },
  {
   "cell_type": "code",
   "execution_count": 8,
   "metadata": {},
   "outputs": [
    {
     "name": "stdout",
     "output_type": "stream",
     "text": [
      "['Pea', 'Orange', 'Gauva', 'Banana', 'Apple']\n"
     ]
    }
   ],
   "source": [
    "# Lists\n",
    "\n",
    "Fruits=[\"Apple\",\"Orange\",\"Grapes\"]\n",
    "Fruits.append(\"Pea\")\n",
    "Fruits.extend([\"Banana\"])\n",
    "Fruits.insert(1,\"Gauva\")\n",
    "Fruits.pop(3)\n",
    "#Fruits.clear()\n",
    "Fruits.sort()\n",
    "Fruits.index('Apple')\n",
    "Fruits.count('Gauva')\n",
    "Fruits.reverse()\n",
    "Fruits.copy()\n",
    "print(Fruits)"
   ]
  },
  {
   "cell_type": "code",
   "execution_count": 9,
   "metadata": {},
   "outputs": [
    {
     "name": "stdout",
     "output_type": "stream",
     "text": [
      "John\n",
      "Alice\n"
     ]
    }
   ],
   "source": [
    "# Using list and random who is going tp pay bill?\n",
    "\n",
    "names=[\"John\",\"Alice\",\"Mary\"]\n",
    "#1 option\n",
    "print(random.choice(names))\n",
    "#2 option\n",
    "r=random.randint(0,2)\n",
    "print(names[r])"
   ]
  },
  {
   "cell_type": "code",
   "execution_count": 10,
   "metadata": {},
   "outputs": [
    {
     "name": "stdout",
     "output_type": "stream",
     "text": [
      "Kale\n"
     ]
    }
   ],
   "source": [
    "#Lists quiz\n",
    "\n",
    "fruits = [\"Strawberries\", \"Nectarines\", \"Apples\", \"Grapes\", \"Peaches\", \"Cherries\", \"Pears\"]\n",
    "vegetables = [\"Spinach\", \"Kale\", \"Tomatoes\", \"Celery\", \"Potatoes\"]\n",
    " \n",
    "dirty_dozen = [fruits, vegetables]\n",
    "#[0]-Fruits,[1]=Vegetables\n",
    "print(dirty_dozen[1][1])"
   ]
  },
  {
   "cell_type": "code",
   "execution_count": 14,
   "metadata": {},
   "outputs": [
    {
     "name": "stdout",
     "output_type": "stream",
     "text": [
      "What do you choose?\n",
      "Type 0 for Rock, 1 for Paper & 2 for Scissor:\n",
      "56\n",
      "Computer choice:\n",
      "0\n",
      "\n",
      "    _______\n",
      "---'   ____)\n",
      "      (_____)\n",
      "      (_____)\n",
      "      (____)\n",
      "---.__(___)\n",
      "\n",
      "You entered invaild number. You Lose!\n"
     ]
    }
   ],
   "source": [
    "#Making the rock, paper, scissor game\n",
    "\n",
    "#Rock\n",
    "Rock=(\"\"\"\n",
    "    _______\n",
    "---'   ____)\n",
    "      (_____)\n",
    "      (_____)\n",
    "      (____)\n",
    "---.__(___)\n",
    "\"\"\")\n",
    "\n",
    "# Paper\n",
    "Paper=(\"\"\"\n",
    "     _______\n",
    "---'    ____)____\n",
    "           ______)\n",
    "          _______)\n",
    "         _______)\n",
    "---.__________)\n",
    "\"\"\")\n",
    "\n",
    "# Scissors\n",
    "Scissors=(\"\"\"\n",
    "    _______\n",
    "---'   ____)____\n",
    "          ______)\n",
    "       __________)\n",
    "      (____)\n",
    "---.__(___)\n",
    "\"\"\")\n",
    "\n",
    "game_images=[Rock,Paper,Scissors]\n",
    "\n",
    "user_choice=int(input(\"What do you choose?Type 0 for Rock, 1 for Paper & 2 for Scissor\"))\n",
    "print(f\"What do you choose?\\nType 0 for Rock, 1 for Paper & 2 for Scissor:\\n{user_choice}\")\n",
    "if user_choice >=0 and user_choice<=2:\n",
    "    print(game_images[user_choice]) \n",
    "\n",
    "computer_choice=random.randint(0,2)\n",
    "print(f\"Computer choice:\\n{computer_choice}\")\n",
    "print(game_images[computer_choice])\n",
    "\n",
    "if user_choice >=3 or user_choice <0:\n",
    "    print(\"You entered invaild number. You Lose!\")\n",
    "elif user_choice==0 and computer_choice==2:\n",
    "    print(\"You Win!\")\n",
    "elif computer_choice==0 and user_choice==2:\n",
    "    print(\"You Lose!\")\n",
    "elif computer_choice > user_choice:\n",
    "    print(\"You Lose!\")\n",
    "elif user_choice > computer_choice:\n",
    "    print(\"You Win!\")\n",
    "elif computer_choice==user_choice:\n",
    "    print(\"It's Draw!\")\n"
   ]
  },
  {
   "cell_type": "code",
   "execution_count": 18,
   "metadata": {},
   "outputs": [
    {
     "name": "stdout",
     "output_type": "stream",
     "text": [
      "99\n"
     ]
    }
   ],
   "source": [
    "#For loop\n",
    "\n",
    "Score=[1,6,8,9,19,87,44,67,90,23,57,90,99,56]\n",
    "#max(Score)\n",
    "max=0\n",
    "for max_score in Score:\n",
    "    if max_score > max:\n",
    "        max=max_score\n",
    "print(max)"
   ]
  },
  {
   "cell_type": "code",
   "execution_count": null,
   "metadata": {},
   "outputs": [
    {
     "name": "stdout",
     "output_type": "stream",
     "text": [
      "1\n",
      "2\n",
      "Fizz\n",
      "4\n",
      "Buzz\n",
      "Fizz\n",
      "7\n",
      "8\n",
      "Fizz\n",
      "Buzz\n",
      "11\n",
      "Fizz\n",
      "13\n",
      "14\n",
      "FizzBuzz\n",
      "16\n",
      "17\n",
      "Fizz\n",
      "19\n",
      "Buzz\n",
      "Fizz\n",
      "22\n",
      "23\n",
      "Fizz\n",
      "Buzz\n",
      "26\n",
      "Fizz\n",
      "28\n",
      "29\n",
      "FizzBuzz\n",
      "31\n",
      "32\n",
      "Fizz\n",
      "34\n",
      "Buzz\n",
      "Fizz\n",
      "37\n",
      "38\n",
      "Fizz\n",
      "Buzz\n",
      "41\n",
      "Fizz\n",
      "43\n",
      "44\n",
      "FizzBuzz\n",
      "46\n",
      "47\n",
      "Fizz\n",
      "49\n",
      "Buzz\n",
      "Fizz\n",
      "52\n",
      "53\n",
      "Fizz\n",
      "Buzz\n",
      "56\n",
      "Fizz\n",
      "58\n",
      "59\n",
      "FizzBuzz\n",
      "61\n",
      "62\n",
      "Fizz\n",
      "64\n",
      "Buzz\n",
      "Fizz\n",
      "67\n",
      "68\n",
      "Fizz\n",
      "Buzz\n",
      "71\n",
      "Fizz\n",
      "73\n",
      "74\n",
      "FizzBuzz\n",
      "76\n",
      "77\n",
      "Fizz\n",
      "79\n",
      "Buzz\n",
      "Fizz\n",
      "82\n",
      "83\n",
      "Fizz\n",
      "Buzz\n",
      "86\n",
      "Fizz\n",
      "88\n",
      "89\n",
      "FizzBuzz\n",
      "91\n",
      "92\n",
      "Fizz\n",
      "94\n",
      "Buzz\n",
      "Fizz\n",
      "97\n",
      "98\n",
      "Fizz\n",
      "Buzz\n"
     ]
    }
   ],
   "source": [
    "#You are going to write a program that automatically prints the solution to the FizzBuzz game\n",
    "\n",
    "for number in range(1,101):\n",
    "    if number % 3 == 0 and number % 5 == 0:\n",
    "        print(\"FizzBuzz\")\n",
    "    elif number % 3 == 0:\n",
    "        print(\"Fizz\")\n",
    "    elif number % 5 == 0:\n",
    "        print(\"Buzz\")\n",
    "    else:\n",
    "        print(number)"
   ]
  },
  {
   "cell_type": "code",
   "execution_count": 29,
   "metadata": {},
   "outputs": [
    {
     "name": "stdout",
     "output_type": "stream",
     "text": [
      "How many letters would you like in your password?\n",
      "14\n",
      "How many symbols would you like?\n",
      "9\n",
      "How many numbers would you like?\n",
      "7\n",
      "Your password is: +4(46anu05m*fp#j(q&4bw$6roj!*o\n"
     ]
    }
   ],
   "source": [
    "# Create a Password Generator\n",
    "\n",
    "letters=['a','b','c','d','e','f','g','h','i','j','k','l','m','n','o','p','q','r','s','t','u','v','w','x','y','z']\n",
    "numbers=['0','1','2','3','4','5','6','7','8','9']\n",
    "symbols=['!','@','#','$','%','&','*','(',')','+']\n",
    "\n",
    "nr_letters=int(input(\"How many letters would you like in your password?\"))\n",
    "print(f\"How many letters would you like in your password?\\n{nr_letters}\")\n",
    "\n",
    "nr_symobls=int(input(f\"How many symbols would you like?\"))\n",
    "print(f\"How many symbols would you like?\\n{nr_symobls}\")\n",
    "\n",
    "nr_numbers=int(input(\"How many numbers would you like?\"))\n",
    "print(f\"How many numbers would you like?\\n{nr_numbers}\")\n",
    "\n",
    "#Easy Level\n",
    "\n",
    "#password=\"\"\n",
    "#for char in range(0,nr_letters):\n",
    "    #password+=random.choice(letters)\n",
    "\n",
    "#for char in range(0,nr_symobls):\n",
    "    #password+=random.choice(symbols)\n",
    "\n",
    "#for char in range(0,nr_numbers):\n",
    "    #password+=random.choice(numbers)\n",
    "\n",
    "#print(password)\n",
    "\n",
    "#Hard Level\n",
    "password_list=[]\n",
    "for char in range(0,nr_letters):\n",
    "    password_list.append(random.choice(letters))\n",
    "\n",
    "for char in range(0,nr_symobls):\n",
    "    password_list.append(random.choice(symbols))\n",
    "\n",
    "for char in range(0,nr_numbers):\n",
    "    password_list.append(random.choice(numbers))\n",
    "\n",
    "random.shuffle(password_list)\n",
    "\n",
    "password=\"\"\n",
    "for char in password_list:\n",
    "    password+=char\n",
    "\n",
    "print(f\"Your password is: {password}\")"
   ]
  },
  {
   "cell_type": "code",
   "execution_count": 30,
   "metadata": {},
   "outputs": [
    {
     "name": "stdout",
     "output_type": "stream",
     "text": [
      "Hello\n",
      "Bye\n"
     ]
    }
   ],
   "source": [
    "# How to create our own function\n",
    "\n",
    "def my_function():\n",
    "    print(\"Hello\")\n",
    "    print(\"Bye\")\n",
    "\n",
    "#Calling function\n",
    "my_function()"
   ]
  },
  {
   "cell_type": "code",
   "execution_count": 8,
   "metadata": {},
   "outputs": [
    {
     "name": "stdout",
     "output_type": "stream",
     "text": [
      "You have 1768 weeks left.\n"
     ]
    }
   ],
   "source": [
    "# Calculating how many age weeks is left if we live until 90 yrs\n",
    "\n",
    "def life_in_weeks(age):\n",
    "    years_remaining = 90 - age\n",
    "    weeks_remaining = years_remaining * 52\n",
    "    print(f\"You have {weeks_remaining} weeks left.\")\n",
    "  \n",
    "life_in_weeks(56)"
   ]
  },
  {
   "cell_type": "code",
   "execution_count": 9,
   "metadata": {},
   "outputs": [
    {
     "name": "stdout",
     "output_type": "stream",
     "text": [
      "Hello Sahana\n",
      "Location is Mysore\n"
     ]
    }
   ],
   "source": [
    "def my_function(name,location):\n",
    "    print(f\"Hello {name}\")\n",
    "    print(f\"Location is {location}\")\n",
    "\n",
    "my_function(\"Sahana\",\"Mysore\")"
   ]
  },
  {
   "cell_type": "code",
   "execution_count": null,
   "metadata": {},
   "outputs": [
    {
     "name": "stdout",
     "output_type": "stream",
     "text": [
      "{'Harry': 'Exceeds Expectations', 'Ron': 'Acceptable', 'Hermione': 'Outstanding', 'Draco': 'Acceptable', 'Neville': 'Fail'}\n"
     ]
    }
   ],
   "source": [
    "#You have access to a database of student_scores in the format of a dictionary. The keys in student_scores are the names of the students and the values are their exam scores. \n",
    "#Write a program that converts their scores to grades.\n",
    "\n",
    "student_scores = {\n",
    "    'Harry': 88,\n",
    "    'Ron': 78,\n",
    "    'Hermione': 95,\n",
    "    'Draco': 75,\n",
    "    'Neville': 60\n",
    "}\n",
    "\n",
    "# Create an empty dictionary to collect the new values.\n",
    "student_grades = {}\n",
    " \n",
    "# Loop through each key in the student_scores dictionary\n",
    "for student in student_scores:\n",
    " \n",
    "    #Get the value (student score) by using the key each time.\n",
    "    score = student_scores[student]\n",
    " \n",
    "    #Check what grade the score would get, then add it to student_grades\n",
    "    if score >= 91:\n",
    "        student_grades[student] = 'Outstanding'\n",
    "    elif score >= 81:\n",
    "        student_grades[student] = 'Exceeds Expectations'\n",
    "    elif score >= 71:\n",
    "        student_grades[student] = 'Acceptable'\n",
    "    else:\n",
    "        student_grades[student] = 'Fail'\n",
    "\n",
    "print(student_grades)"
   ]
  },
  {
   "cell_type": "code",
   "execution_count": 6,
   "metadata": {},
   "outputs": [
    {
     "name": "stdout",
     "output_type": "stream",
     "text": [
      "Lille\n"
     ]
    }
   ],
   "source": [
    "travel_log={\n",
    "    \"France\":[\"Paris\",\"Lille\",\"Dijon\"],\n",
    "    \"Germany\":[\"Stuttgart\",\"Berlin\"]\n",
    "}\n",
    "\n",
    "print(travel_log[\"France\"][1])"
   ]
  },
  {
   "cell_type": "code",
   "execution_count": 13,
   "metadata": {},
   "outputs": [
    {
     "name": "stdout",
     "output_type": "stream",
     "text": [
      "D\n"
     ]
    }
   ],
   "source": [
    "nested_list=[\"A\",\"B\",[\"C\",\"D\"]]\n",
    "print(nested_list[2][1])"
   ]
  },
  {
   "cell_type": "code",
   "execution_count": 19,
   "metadata": {},
   "outputs": [
    {
     "name": "stdout",
     "output_type": "stream",
     "text": [
      "Stuttgart\n"
     ]
    }
   ],
   "source": [
    "travel_log={\n",
    "    \"France\":{\n",
    "        \"cities_visited\":[\"Paris\",\"Lille\",\"Dijon\"],\n",
    "        \"total_visited\":12\n",
    "        },\n",
    "    \"Germany\":{\n",
    "        \"cities_visited\":[\"Stuttgart\",\"Berlin\",\"Hamburg\"],\n",
    "        \"total_visited\":8\n",
    "    }\n",
    "}\n",
    "\n",
    "print(travel_log[\"Germany\"][\"cities_visited\"][0])"
   ]
  },
  {
   "cell_type": "code",
   "execution_count": 6,
   "metadata": {},
   "outputs": [
    {
     "name": "stdout",
     "output_type": "stream",
     "text": [
      "Sahana Ramesh\n"
     ]
    }
   ],
   "source": [
    "# Function with Outputs\n",
    "\n",
    "def format_name(f_name,l_name):\n",
    "    \"\"\"How function will work with the outputs\"\"\"\n",
    "    name=f_name.title()\n",
    "    last=l_name.title()\n",
    "    return f\"{name} {last}\"\n",
    "\n",
    "formatted_name=format_name(f_name=\"sahana\",l_name=\"RaMESH\")\n",
    "print(formatted_name)"
   ]
  },
  {
   "cell_type": "code",
   "execution_count": 3,
   "metadata": {},
   "outputs": [
    {
     "name": "stdout",
     "output_type": "stream",
     "text": [
      "False\n"
     ]
    }
   ],
   "source": [
    "#Write a program that returns True or False whether if a given year is a leap year.\n",
    "\n",
    "def is_leap_year(year):\n",
    "    if year%4==0:\n",
    "        if year%100==0:\n",
    "            if year%400==0:\n",
    "                return True\n",
    "            else:\n",
    "                return False\n",
    "        else:\n",
    "            return True\n",
    "    else:\n",
    "        return False\n",
    "                \n",
    "print(is_leap_year(int(input(\"Enter the year\"))))"
   ]
  },
  {
   "cell_type": "code",
   "execution_count": 7,
   "metadata": {},
   "outputs": [
    {
     "name": "stdout",
     "output_type": "stream",
     "text": [
      "15\n"
     ]
    }
   ],
   "source": [
    "def outer_function(a, b):\n",
    "    def inner_function(c, d):\n",
    "        return c + d\n",
    "    return inner_function(a, b)\n",
    " \n",
    "result = outer_function(5, 10)\n",
    "print(result)"
   ]
  },
  {
   "cell_type": "code",
   "execution_count": 8,
   "metadata": {},
   "outputs": [
    {
     "name": "stdout",
     "output_type": "stream",
     "text": [
      "None\n"
     ]
    }
   ],
   "source": [
    "def my_function(a):\n",
    "    if a < 40:\n",
    "        return\n",
    "        print(\"Terrible\")\n",
    "    if a < 80:\n",
    "        return \"Pass\"\n",
    "    else:\n",
    "        return \"Great\"\n",
    "print(my_function(25))"
   ]
  }
 ],
 "metadata": {
  "kernelspec": {
   "display_name": "Python 3",
   "language": "python",
   "name": "python3"
  },
  "language_info": {
   "codemirror_mode": {
    "name": "ipython",
    "version": 3
   },
   "file_extension": ".py",
   "mimetype": "text/x-python",
   "name": "python",
   "nbconvert_exporter": "python",
   "pygments_lexer": "ipython3",
   "version": "3.11.9"
  }
 },
 "nbformat": 4,
 "nbformat_minor": 2
}
